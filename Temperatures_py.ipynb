{
 "cells": [
  {
   "cell_type": "markdown",
   "id": "073ca2c9",
   "metadata": {},
   "source": [
    "# Explanation "
   ]
  },
  {
   "cell_type": "code",
   "execution_count": 1,
   "id": "2fb5186f",
   "metadata": {},
   "outputs": [],
   "source": [
    "temperatures = \"1 5 -8 -2 7\""
   ]
  },
  {
   "cell_type": "code",
   "execution_count": 2,
   "id": "f27ba2a4",
   "metadata": {},
   "outputs": [],
   "source": [
    "if len(temperatures) == 0:\n",
    "    print(\"0\") # won't return anything since temperatures are in it "
   ]
  },
  {
   "cell_type": "code",
   "execution_count": 3,
   "id": "5a5f682d",
   "metadata": {},
   "outputs": [
    {
     "data": {
      "text/plain": [
       "'1 5 -8 -2 7'"
      ]
     },
     "execution_count": 3,
     "metadata": {},
     "output_type": "execute_result"
    }
   ],
   "source": [
    "temperatures_split = temperatures.split() # it will create a list with items as strings \n",
    "temperatures"
   ]
  },
  {
   "cell_type": "code",
   "execution_count": 4,
   "id": "c29b7394",
   "metadata": {},
   "outputs": [
    {
     "name": "stdout",
     "output_type": "stream",
     "text": [
      "temperatures type: <class 'str'>\n",
      "temperatures_split type: <class 'list'>\n",
      "Element type: <class 'str'>\n",
      "Fisrt Element: 1\n"
     ]
    }
   ],
   "source": [
    "print(\"temperatures type:\",type(temperatures))\n",
    "print(\"temperatures_split type:\",type(temperatures_split))\n",
    "print(\"Element type:\",type(temperatures_split[0]))\n",
    "print(\"Fisrt Element:\",temperatures_split[0])"
   ]
  },
  {
   "cell_type": "markdown",
   "id": "6f769b17",
   "metadata": {},
   "source": [
    "Loop"
   ]
  },
  {
   "cell_type": "code",
   "execution_count": 5,
   "id": "299c532d",
   "metadata": {},
   "outputs": [
    {
     "name": "stdout",
     "output_type": "stream",
     "text": [
      "It is lower than threshold\n",
      "It is higher than threshold\n",
      "It is lower than threshold\n",
      "It is lower than threshold\n",
      "It is higher than threshold\n"
     ]
    }
   ],
   "source": [
    "# Threshold = 4\n",
    "Threshold = 4\n",
    "for temperature in temperatures_split:\n",
    "    # int() to convert the element string to integer\n",
    "    if int(temperature) > Threshold:\n",
    "        print(\"It is higher than threshold\")\n",
    "    elif int(temperature) == Threshold:\n",
    "        print(\"Equals to threshold\")\n",
    "    else:\n",
    "        print(\"It is lower than threshold\")"
   ]
  },
  {
   "cell_type": "code",
   "execution_count": 6,
   "id": "5d47edaa",
   "metadata": {
    "scrolled": true
   },
   "outputs": [
    {
     "name": "stdout",
     "output_type": "stream",
     "text": [
      "It is lower than threshold\n",
      "It is higher than threshold\n",
      "It is higher than threshold\n",
      "It is lower than threshold\n",
      "It is higher than threshold\n"
     ]
    }
   ],
   "source": [
    "# Usage of abs built-in abs returns the absolute value \n",
    "for temperature in temperatures_split:\n",
    "    # int() to convert the element string to integer\n",
    "    if abs(int(temperature)) > Threshold:\n",
    "        print(\"It is higher than threshold\")\n",
    "    elif abs(int(temperature)) == Threshold:\n",
    "        print(\"Equals to threshold\")\n",
    "    else:\n",
    "        print(\"It is lower than threshold\")"
   ]
  },
  {
   "cell_type": "markdown",
   "id": "d7cb67ec",
   "metadata": {},
   "source": [
    "# Result"
   ]
  },
  {
   "cell_type": "code",
   "execution_count": null,
   "id": "b3c08342",
   "metadata": {
    "scrolled": true
   },
   "outputs": [],
   "source": [
    "import sys\n",
    "import math\n",
    "\n",
    "# Auto-generated code below aims at helping you parse\n",
    "# the standard input according to the problem statement.\n",
    "\n",
    "n = int(input())  # the number of temperatures to analyse\n",
    "t = input()\n",
    "result = \"\"\n",
    "\n",
    "if len(t) == 0:\n",
    "    print(\"0\")\n",
    "else: \n",
    "    temperature_single = t.split()\n",
    "    result = temperature_single[0]\n",
    "\n",
    "    for temp in temperature_single:\n",
    "        if abs(int(temp)) < abs(int(result)):\n",
    "            result = temp \n",
    "        elif abs(int(temp)) == abs(int(result)):\n",
    "            result = max(int(temp), int(result))\n",
    "\n",
    "# Write an answer using print\n",
    "# To debug: print(\"Debug messages...\", file=sys.stderr, flush=True)\n",
    "\n",
    "print(result)"
   ]
  },
  {
   "cell_type": "code",
   "execution_count": null,
   "id": "7647bbd5",
   "metadata": {},
   "outputs": [],
   "source": []
  },
  {
   "cell_type": "code",
   "execution_count": null,
   "id": "a1221662",
   "metadata": {},
   "outputs": [],
   "source": []
  },
  {
   "cell_type": "code",
   "execution_count": null,
   "id": "c029e722",
   "metadata": {},
   "outputs": [],
   "source": []
  }
 ],
 "metadata": {
  "kernelspec": {
   "display_name": "Python 3.8.8 64-bit ('SaaS': conda)",
   "language": "python",
   "name": "python388jvsc74a57bd0c49d45261347b9bb1431b2e7450ef65c0e0d28a31552b5f7470cf28dc1d80443"
  },
  "language_info": {
   "codemirror_mode": {
    "name": "ipython",
    "version": 3
   },
   "file_extension": ".py",
   "mimetype": "text/x-python",
   "name": "python",
   "nbconvert_exporter": "python",
   "pygments_lexer": "ipython3",
   "version": "3.8.8"
  }
 },
 "nbformat": 4,
 "nbformat_minor": 5
}
